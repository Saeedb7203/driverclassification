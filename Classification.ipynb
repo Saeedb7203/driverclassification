{
 "cells": [
  {
   "cell_type": "markdown",
   "metadata": {},
   "source": [
    "# 1St Step\n",
    "- Import Lib"
   ]
  },
  {
   "cell_type": "code",
   "execution_count": 1,
   "metadata": {},
   "outputs": [],
   "source": [
    "import numpy as np\n",
    "import matplotlib.pyplot as plt\n",
    "import pandas as pd\n",
    "from sklearn import preprocessing\n",
    "import time\n",
    "%matplotlib inline"
   ]
  },
  {
   "cell_type": "markdown",
   "metadata": {},
   "source": [
    "# 2nd Step\n",
    "- load Data\n",
    "- Select Feature\n",
    "- check Null\n",
    "- Dropnull"
   ]
  },
  {
   "cell_type": "code",
   "execution_count": 2,
   "metadata": {},
   "outputs": [
    {
     "data": {
      "text/html": [
       "<div>\n",
       "<style scoped>\n",
       "    .dataframe tbody tr th:only-of-type {\n",
       "        vertical-align: middle;\n",
       "    }\n",
       "\n",
       "    .dataframe tbody tr th {\n",
       "        vertical-align: top;\n",
       "    }\n",
       "\n",
       "    .dataframe thead th {\n",
       "        text-align: right;\n",
       "    }\n",
       "</style>\n",
       "<table border=\"1\" class=\"dataframe\">\n",
       "  <thead>\n",
       "    <tr style=\"text-align: right;\">\n",
       "      <th></th>\n",
       "      <th>Time</th>\n",
       "      <th>Drive</th>\n",
       "      <th>Stimulus</th>\n",
       "      <th>Failure</th>\n",
       "      <th>Palm.EDA</th>\n",
       "      <th>Heart.Rate</th>\n",
       "      <th>Breathing.Rate</th>\n",
       "      <th>Perinasal.Perspiration</th>\n",
       "      <th>Speed</th>\n",
       "      <th>Acceleration</th>\n",
       "      <th>Brake</th>\n",
       "      <th>Steering</th>\n",
       "      <th>LaneOffset</th>\n",
       "      <th>Lane.Position</th>\n",
       "      <th>Distance</th>\n",
       "      <th>Gaze.X.Pos</th>\n",
       "      <th>Gaze.Y.Pos</th>\n",
       "      <th>Lft.Pupil.Diameter</th>\n",
       "      <th>Rt.Pupil.Diameter</th>\n",
       "    </tr>\n",
       "  </thead>\n",
       "  <tbody>\n",
       "    <tr>\n",
       "      <th>0</th>\n",
       "      <td>1</td>\n",
       "      <td>1</td>\n",
       "      <td>0</td>\n",
       "      <td>0</td>\n",
       "      <td>NaN</td>\n",
       "      <td>NaN</td>\n",
       "      <td>NaN</td>\n",
       "      <td>0.004620</td>\n",
       "      <td>NaN</td>\n",
       "      <td>NaN</td>\n",
       "      <td>NaN</td>\n",
       "      <td>NaN</td>\n",
       "      <td>NaN</td>\n",
       "      <td>NaN</td>\n",
       "      <td>NaN</td>\n",
       "      <td>993.9742</td>\n",
       "      <td>798.7320</td>\n",
       "      <td>0.003430</td>\n",
       "      <td>0.003701</td>\n",
       "    </tr>\n",
       "    <tr>\n",
       "      <th>1</th>\n",
       "      <td>2</td>\n",
       "      <td>1</td>\n",
       "      <td>0</td>\n",
       "      <td>0</td>\n",
       "      <td>NaN</td>\n",
       "      <td>NaN</td>\n",
       "      <td>NaN</td>\n",
       "      <td>0.004508</td>\n",
       "      <td>NaN</td>\n",
       "      <td>NaN</td>\n",
       "      <td>NaN</td>\n",
       "      <td>NaN</td>\n",
       "      <td>NaN</td>\n",
       "      <td>NaN</td>\n",
       "      <td>NaN</td>\n",
       "      <td>984.3610</td>\n",
       "      <td>816.5197</td>\n",
       "      <td>0.003520</td>\n",
       "      <td>0.003737</td>\n",
       "    </tr>\n",
       "    <tr>\n",
       "      <th>2</th>\n",
       "      <td>3</td>\n",
       "      <td>1</td>\n",
       "      <td>0</td>\n",
       "      <td>0</td>\n",
       "      <td>NaN</td>\n",
       "      <td>NaN</td>\n",
       "      <td>NaN</td>\n",
       "      <td>0.004421</td>\n",
       "      <td>NaN</td>\n",
       "      <td>NaN</td>\n",
       "      <td>NaN</td>\n",
       "      <td>NaN</td>\n",
       "      <td>NaN</td>\n",
       "      <td>NaN</td>\n",
       "      <td>NaN</td>\n",
       "      <td>997.4845</td>\n",
       "      <td>874.9274</td>\n",
       "      <td>0.003952</td>\n",
       "      <td>0.000000</td>\n",
       "    </tr>\n",
       "    <tr>\n",
       "      <th>3</th>\n",
       "      <td>4</td>\n",
       "      <td>1</td>\n",
       "      <td>0</td>\n",
       "      <td>0</td>\n",
       "      <td>NaN</td>\n",
       "      <td>NaN</td>\n",
       "      <td>NaN</td>\n",
       "      <td>0.004331</td>\n",
       "      <td>NaN</td>\n",
       "      <td>NaN</td>\n",
       "      <td>NaN</td>\n",
       "      <td>NaN</td>\n",
       "      <td>NaN</td>\n",
       "      <td>NaN</td>\n",
       "      <td>NaN</td>\n",
       "      <td>0.0000</td>\n",
       "      <td>0.0000</td>\n",
       "      <td>0.000000</td>\n",
       "      <td>0.000000</td>\n",
       "    </tr>\n",
       "    <tr>\n",
       "      <th>4</th>\n",
       "      <td>5</td>\n",
       "      <td>1</td>\n",
       "      <td>0</td>\n",
       "      <td>0</td>\n",
       "      <td>NaN</td>\n",
       "      <td>NaN</td>\n",
       "      <td>NaN</td>\n",
       "      <td>0.004219</td>\n",
       "      <td>NaN</td>\n",
       "      <td>NaN</td>\n",
       "      <td>NaN</td>\n",
       "      <td>NaN</td>\n",
       "      <td>NaN</td>\n",
       "      <td>NaN</td>\n",
       "      <td>NaN</td>\n",
       "      <td>961.7389</td>\n",
       "      <td>1028.1698</td>\n",
       "      <td>0.003943</td>\n",
       "      <td>0.003571</td>\n",
       "    </tr>\n",
       "  </tbody>\n",
       "</table>\n",
       "</div>"
      ],
      "text/plain": [
       "   Time  Drive  Stimulus  Failure  Palm.EDA  Heart.Rate  Breathing.Rate  \\\n",
       "0     1      1         0        0       NaN         NaN             NaN   \n",
       "1     2      1         0        0       NaN         NaN             NaN   \n",
       "2     3      1         0        0       NaN         NaN             NaN   \n",
       "3     4      1         0        0       NaN         NaN             NaN   \n",
       "4     5      1         0        0       NaN         NaN             NaN   \n",
       "\n",
       "   Perinasal.Perspiration  Speed  Acceleration  Brake  Steering  LaneOffset  \\\n",
       "0                0.004620    NaN           NaN    NaN       NaN         NaN   \n",
       "1                0.004508    NaN           NaN    NaN       NaN         NaN   \n",
       "2                0.004421    NaN           NaN    NaN       NaN         NaN   \n",
       "3                0.004331    NaN           NaN    NaN       NaN         NaN   \n",
       "4                0.004219    NaN           NaN    NaN       NaN         NaN   \n",
       "\n",
       "   Lane.Position  Distance  Gaze.X.Pos  Gaze.Y.Pos  Lft.Pupil.Diameter  \\\n",
       "0            NaN       NaN    993.9742    798.7320            0.003430   \n",
       "1            NaN       NaN    984.3610    816.5197            0.003520   \n",
       "2            NaN       NaN    997.4845    874.9274            0.003952   \n",
       "3            NaN       NaN      0.0000      0.0000            0.000000   \n",
       "4            NaN       NaN    961.7389   1028.1698            0.003943   \n",
       "\n",
       "   Rt.Pupil.Diameter  \n",
       "0           0.003701  \n",
       "1           0.003737  \n",
       "2           0.000000  \n",
       "3           0.000000  \n",
       "4           0.003571  "
      ]
     },
     "execution_count": 2,
     "metadata": {},
     "output_type": "execute_result"
    }
   ],
   "source": [
    "df = pd.read_csv('T088.csv')\n",
    "df.head()"
   ]
  },
  {
   "cell_type": "code",
   "execution_count": 3,
   "metadata": {},
   "outputs": [
    {
     "data": {
      "text/plain": [
       "(3823, 19)"
      ]
     },
     "execution_count": 3,
     "metadata": {},
     "output_type": "execute_result"
    }
   ],
   "source": [
    "df.shape"
   ]
  },
  {
   "cell_type": "code",
   "execution_count": 4,
   "metadata": {},
   "outputs": [
    {
     "data": {
      "text/plain": [
       "Index(['Time', 'Drive', 'Stimulus', 'Failure', 'Palm.EDA', 'Heart.Rate',\n",
       "       'Breathing.Rate', 'Perinasal.Perspiration', 'Speed', 'Acceleration',\n",
       "       'Brake', 'Steering', 'LaneOffset', 'Lane.Position', 'Distance',\n",
       "       'Gaze.X.Pos', 'Gaze.Y.Pos', 'Lft.Pupil.Diameter', 'Rt.Pupil.Diameter'],\n",
       "      dtype='object')"
      ]
     },
     "execution_count": 4,
     "metadata": {},
     "output_type": "execute_result"
    }
   ],
   "source": [
    "df.columns"
   ]
  },
  {
   "cell_type": "code",
   "execution_count": 5,
   "metadata": {},
   "outputs": [
    {
     "data": {
      "text/plain": [
       "Time                         0\n",
       "Drive                        0\n",
       "Stimulus                     0\n",
       "Failure                      0\n",
       "Palm.EDA                  3823\n",
       "Heart.Rate                3823\n",
       "Breathing.Rate            3823\n",
       "Perinasal.Perspiration       0\n",
       "Speed                      332\n",
       "Acceleration               301\n",
       "Brake                      301\n",
       "Steering                   309\n",
       "LaneOffset                 309\n",
       "Lane.Position              435\n",
       "Distance                   324\n",
       "Gaze.X.Pos                   1\n",
       "Gaze.Y.Pos                   1\n",
       "Lft.Pupil.Diameter           1\n",
       "Rt.Pupil.Diameter            1\n",
       "dtype: int64"
      ]
     },
     "execution_count": 5,
     "metadata": {},
     "output_type": "execute_result"
    }
   ],
   "source": [
    "df.isnull().sum()"
   ]
  },
  {
   "cell_type": "code",
   "execution_count": 6,
   "metadata": {},
   "outputs": [],
   "source": [
    "ds=df[['Drive', 'Stimulus', 'Failure', 'Perinasal.Perspiration', 'Speed', 'Acceleration',\n",
    "       'Brake', 'Steering', 'LaneOffset', 'Lane.Position', 'Distance',\n",
    "       'Gaze.X.Pos', 'Gaze.Y.Pos', 'Lft.Pupil.Diameter', 'Rt.Pupil.Diameter']]"
   ]
  },
  {
   "cell_type": "code",
   "execution_count": 7,
   "metadata": {},
   "outputs": [
    {
     "data": {
      "text/plain": [
       "(3823, 15)"
      ]
     },
     "execution_count": 7,
     "metadata": {},
     "output_type": "execute_result"
    }
   ],
   "source": [
    "ds.shape"
   ]
  },
  {
   "cell_type": "code",
   "execution_count": 8,
   "metadata": {},
   "outputs": [
    {
     "data": {
      "text/plain": [
       "Drive                       0\n",
       "Stimulus                    0\n",
       "Failure                     0\n",
       "Perinasal.Perspiration      0\n",
       "Speed                     332\n",
       "Acceleration              301\n",
       "Brake                     301\n",
       "Steering                  309\n",
       "LaneOffset                309\n",
       "Lane.Position             435\n",
       "Distance                  324\n",
       "Gaze.X.Pos                  1\n",
       "Gaze.Y.Pos                  1\n",
       "Lft.Pupil.Diameter          1\n",
       "Rt.Pupil.Diameter           1\n",
       "dtype: int64"
      ]
     },
     "execution_count": 8,
     "metadata": {},
     "output_type": "execute_result"
    }
   ],
   "source": [
    "ds.isnull().sum()"
   ]
  },
  {
   "cell_type": "code",
   "execution_count": 9,
   "metadata": {},
   "outputs": [],
   "source": [
    "ds=ds.dropna()"
   ]
  },
  {
   "cell_type": "code",
   "execution_count": 10,
   "metadata": {
    "scrolled": true
   },
   "outputs": [
    {
     "data": {
      "text/plain": [
       "Drive                     0\n",
       "Stimulus                  0\n",
       "Failure                   0\n",
       "Perinasal.Perspiration    0\n",
       "Speed                     0\n",
       "Acceleration              0\n",
       "Brake                     0\n",
       "Steering                  0\n",
       "LaneOffset                0\n",
       "Lane.Position             0\n",
       "Distance                  0\n",
       "Gaze.X.Pos                0\n",
       "Gaze.Y.Pos                0\n",
       "Lft.Pupil.Diameter        0\n",
       "Rt.Pupil.Diameter         0\n",
       "dtype: int64"
      ]
     },
     "execution_count": 10,
     "metadata": {},
     "output_type": "execute_result"
    }
   ],
   "source": [
    "ds.isnull().sum()"
   ]
  },
  {
   "cell_type": "markdown",
   "metadata": {},
   "source": [
    "# 3Rd Step\n",
    "- Data Visualization and Analysis"
   ]
  },
  {
   "cell_type": "code",
   "execution_count": 11,
   "metadata": {},
   "outputs": [
    {
     "data": {
      "text/plain": [
       "array([[<AxesSubplot:title={'center':'Drive'}>]], dtype=object)"
      ]
     },
     "execution_count": 11,
     "metadata": {},
     "output_type": "execute_result"
    },
    {
     "data": {
      "image/png": "[encoded data removed]",
      "text/plain": [
       "<Figure size 432x288 with 1 Axes>"
      ]
     },
     "metadata": {
      "needs_background": "light"
     },
     "output_type": "display_data"
    }
   ],
   "source": [
    "df.hist(column='Drive', bins=16)"
   ]
  },
  {
   "cell_type": "code",
   "execution_count": 12,
   "metadata": {},
   "outputs": [
    {
     "data": {
      "text/plain": [
       "array([[ 0.00000000e+00,  0.00000000e+00,  5.31092200e-03,\n",
       "         5.47000000e-10,  0.00000000e+00,  0.00000000e+00,\n",
       "        -8.54513200e-02,  9.50982570e-02,  1.72990174e+00,\n",
       "         0.00000000e+00,  7.54280500e+02,  6.06950300e+02,\n",
       "         0.00000000e+00,  0.00000000e+00],\n",
       "       [ 0.00000000e+00,  0.00000000e+00,  5.55939700e-03,\n",
       "        -5.63000000e-11,  0.00000000e+00,  0.00000000e+00,\n",
       "        -8.54513200e-02,  9.50982570e-02,  1.72990174e+00,\n",
       "         0.00000000e+00,  0.00000000e+00,  0.00000000e+00,\n",
       "         0.00000000e+00,  0.00000000e+00],\n",
       "       [ 0.00000000e+00,  0.00000000e+00,  6.00704000e-03,\n",
       "         7.74000000e-10,  0.00000000e+00,  0.00000000e+00,\n",
       "        -8.48229970e-02,  9.50982570e-02,  1.72990174e+00,\n",
       "         0.00000000e+00,  0.00000000e+00,  0.00000000e+00,\n",
       "         0.00000000e+00,  0.00000000e+00],\n",
       "       [ 0.00000000e+00,  0.00000000e+00,  6.46733600e-03,\n",
       "        -2.09000000e-08,  0.00000000e+00,  0.00000000e+00,\n",
       "        -1.00530967e-01,  9.50982570e-02,  1.72990174e+00,\n",
       "        -1.02000000e-11,  0.00000000e+00,  0.00000000e+00,\n",
       "         0.00000000e+00,  0.00000000e+00],\n",
       "       [ 0.00000000e+00,  0.00000000e+00,  6.52858000e-03,\n",
       "         2.08000000e-09,  0.00000000e+00,  0.00000000e+00,\n",
       "        -1.03672557e-01,  9.50982570e-02,  1.72990174e+00,\n",
       "         0.00000000e+00,  0.00000000e+00,  0.00000000e+00,\n",
       "         0.00000000e+00,  0.00000000e+00]])"
      ]
     },
     "execution_count": 12,
     "metadata": {},
     "output_type": "execute_result"
    }
   ],
   "source": [
    "X = ds[['Stimulus', 'Failure', 'Perinasal.Perspiration', 'Speed', 'Acceleration',\n",
    "       'Brake', 'Steering', 'LaneOffset', 'Lane.Position', 'Distance',\n",
    "       'Gaze.X.Pos', 'Gaze.Y.Pos', 'Lft.Pupil.Diameter', 'Rt.Pupil.Diameter']].values  #.astype(float)\n",
    "X[0:5]"
   ]
  },
  {
   "cell_type": "code",
   "execution_count": 13,
   "metadata": {
    "scrolled": true
   },
   "outputs": [
    {
     "data": {
      "text/plain": [
       "array([[-0.26819029,  0.        ,  1.27436932, -3.92451146, -1.38855604,\n",
       "        -0.16736933, -2.31411589,  0.04090207, -0.33489391, -1.54362196,\n",
       "        -0.05674727,  0.66904615,  0.        ,  0.        ],\n",
       "       [-0.26819029,  0.        ,  1.68223314, -3.92451146, -1.38855604,\n",
       "        -0.16736933, -2.31411589,  0.04090207, -0.33489391, -1.54362196,\n",
       "        -1.10533879, -1.14298462,  0.        ,  0.        ],\n",
       "       [-0.26819029,  0.        ,  2.41702491, -3.92451146, -1.38855604,\n",
       "        -0.16736933, -2.29726688,  0.04090207, -0.33489391, -1.54362196,\n",
       "        -1.10533879, -1.14298462,  0.        ,  0.        ],\n",
       "       [-0.26819029,  0.        ,  3.17258618, -3.92451146, -1.38855604,\n",
       "        -0.16736933, -2.71848942,  0.04090207, -0.33489391, -1.54362196,\n",
       "        -1.10533879, -1.14298462,  0.        ,  0.        ],\n",
       "       [-0.26819029,  0.        ,  3.27311626, -3.92451146, -1.38855604,\n",
       "        -0.16736933, -2.80273382,  0.04090207, -0.33489391, -1.54362196,\n",
       "        -1.10533879, -1.14298462,  0.        ,  0.        ]])"
      ]
     },
     "execution_count": 13,
     "metadata": {},
     "output_type": "execute_result"
    }
   ],
   "source": [
    "X = preprocessing.StandardScaler().fit(X).transform(X.astype(float))\n",
    "X[0:5]"
   ]
  },
  {
   "cell_type": "code",
   "execution_count": 14,
   "metadata": {},
   "outputs": [],
   "source": [
    "y = ds['Drive'].values"
   ]
  },
  {
   "cell_type": "code",
   "execution_count": 15,
   "metadata": {},
   "outputs": [
    {
     "name": "stdout",
     "output_type": "stream",
     "text": [
      "Train set: (2704, 14) (2704,)\n",
      "Test set: (676, 14) (676,)\n"
     ]
    }
   ],
   "source": [
    "from sklearn.model_selection import train_test_split\n",
    "X_train, X_test, y_train, y_test = train_test_split(X, y, test_size=0.20, random_state=4)\n",
    "print ('Train set:', X_train.shape,  y_train.shape)\n",
    "print ('Test set:', X_test.shape,  y_test.shape)"
   ]
  },
  {
   "cell_type": "markdown",
   "metadata": {},
   "source": [
    "# KNN with K=1,3,5 with Holdout\n"
   ]
  },
  {
   "cell_type": "code",
   "execution_count": 16,
   "metadata": {},
   "outputs": [
    {
     "data": {
      "text/plain": [
       "KNeighborsClassifier(n_neighbors=1)"
      ]
     },
     "execution_count": 16,
     "metadata": {},
     "output_type": "execute_result"
    }
   ],
   "source": [
    "from sklearn.neighbors import KNeighborsClassifier\n",
    "k = 1\n",
    "#Train Model and Predict  \n",
    "neigh = KNeighborsClassifier(n_neighbors = k).fit(X_train,y_train)\n",
    "neigh"
   ]
  },
  {
   "cell_type": "code",
   "execution_count": 17,
   "metadata": {},
   "outputs": [
    {
     "data": {
      "text/plain": [
       "array([4, 5, 3, 7, 2])"
      ]
     },
     "execution_count": 17,
     "metadata": {},
     "output_type": "execute_result"
    }
   ],
   "source": [
    "yhat = neigh.predict(X_test)\n",
    "yhat[0:5]"
   ]
  },
  {
   "cell_type": "code",
   "execution_count": 18,
   "metadata": {
    "scrolled": true
   },
   "outputs": [
    {
     "name": "stdout",
     "output_type": "stream",
     "text": [
      "Train set Accuracy:  1.0\n",
      "Test set Accuracy:  0.7751479289940828\n"
     ]
    }
   ],
   "source": [
    "from sklearn import metrics\n",
    "print(\"Train set Accuracy: \", metrics.accuracy_score(y_train, neigh.predict(X_train)))\n",
    "print(\"Test set Accuracy: \", metrics.accuracy_score(y_test, yhat))"
   ]
  },
  {
   "cell_type": "code",
   "execution_count": 19,
   "metadata": {},
   "outputs": [
    {
     "data": {
      "text/plain": [
       "array([0.77514793, 0.72337278, 0.71449704, 0.70710059, 0.70266272,\n",
       "       0.69378698, 0.68343195, 0.65828402, 0.65236686])"
      ]
     },
     "execution_count": 19,
     "metadata": {},
     "output_type": "execute_result"
    }
   ],
   "source": [
    "Ks = 10\n",
    "mean_acc = np.zeros((Ks-1))\n",
    "std_acc = np.zeros((Ks-1))\n",
    "\n",
    "for n in range(1,Ks):\n",
    "    \n",
    "    #Train Model and Predict  \n",
    "    neigh = KNeighborsClassifier(n_neighbors = n ,metric='minkowski', p=2).fit(X_train,y_train)\n",
    "    yhat=neigh.predict(X_test)\n",
    "    mean_acc[n-1] = metrics.accuracy_score(y_test, yhat)\n",
    "\n",
    "    \n",
    "    std_acc[n-1]=np.std(yhat==y_test)/np.sqrt(yhat.shape[0])\n",
    "\n",
    "mean_acc"
   ]
  },
  {
   "cell_type": "code",
   "execution_count": 20,
   "metadata": {},
   "outputs": [
    {
     "data": {
      "image/png": "[encoded data removed]",
      "text/plain": [
       "<Figure size 432x288 with 1 Axes>"
      ]
     },
     "metadata": {
      "needs_background": "light"
     },
     "output_type": "display_data"
    }
   ],
   "source": [
    "plt.plot(range(1,Ks),mean_acc,'g')\n",
    "plt.fill_between(range(1,Ks),mean_acc - 1 * std_acc,mean_acc + 1 * std_acc, alpha=0.10)\n",
    "plt.fill_between(range(1,Ks),mean_acc - 3 * std_acc,mean_acc + 3 * std_acc, alpha=0.10,color=\"green\")\n",
    "plt.legend(('Accuracy ', '+/- 1xstd','+/- 3xstd'))\n",
    "plt.ylabel('Accuracy ')\n",
    "plt.xlabel('Number of Neighbors (K)')\n",
    "plt.tight_layout()\n",
    "plt.show()"
   ]
  },
  {
   "cell_type": "code",
   "execution_count": 21,
   "metadata": {},
   "outputs": [
    {
     "name": "stdout",
     "output_type": "stream",
     "text": [
      "The best accuracy was with 0.7751479289940828 with k= 1\n"
     ]
    }
   ],
   "source": [
    "print( \"The best accuracy was with\", mean_acc.max(), \"with k=\", mean_acc.argmax()+1) "
   ]
  },
  {
   "cell_type": "code",
   "execution_count": 22,
   "metadata": {},
   "outputs": [
    {
     "name": "stdout",
     "output_type": "stream",
     "text": [
      "Confusion matrix: \n",
      " [[ 72  10   2   8   3   6]\n",
      " [  2  73  11  13   7   3]\n",
      " [  1  16  67   7   8   4]\n",
      " [  3  12  21  61   8   5]\n",
      " [  0   9  18   9  66   5]\n",
      " [  5   7  13  12   7 102]]\n"
     ]
    }
   ],
   "source": [
    "from sklearn.metrics import classification_report, accuracy_score, confusion_matrix, recall_score, precision_score, f1_score\n",
    "print('Confusion matrix: \\n', confusion_matrix(y_test, yhat))"
   ]
  },
  {
   "cell_type": "code",
   "execution_count": 23,
   "metadata": {},
   "outputs": [
    {
     "name": "stdout",
     "output_type": "stream",
     "text": [
      "Precision (micor method):  0.6523668639053254\n",
      "Precision (macor method):  0.6645101513187083\n",
      "Precision (weighted method):  0.671623724115456\n"
     ]
    }
   ],
   "source": [
    "print('Precision (micor method): ', precision_score(y_test, yhat, average='micro'))\n",
    "print('Precision (macor method): ', precision_score(y_test, yhat, average='macro'))\n",
    "print('Precision (weighted method): ', precision_score(y_test, yhat, average='weighted'))"
   ]
  },
  {
   "cell_type": "code",
   "execution_count": 24,
   "metadata": {},
   "outputs": [
    {
     "name": "stdout",
     "output_type": "stream",
     "text": [
      "Recall (micor method):  0.6523668639053254\n",
      "Recall (macor method):  0.6505132526837362\n",
      "Recall (weighted method):  0.6523668639053254\n"
     ]
    }
   ],
   "source": [
    "print('Recall (micor method): ', recall_score(y_test, yhat, average='micro'))\n",
    "print('Recall (macor method): ', recall_score(y_test, yhat, average='macro'))\n",
    "print('Recall (weighted method): ', recall_score(y_test, yhat, average='weighted'))"
   ]
  },
  {
   "cell_type": "code",
   "execution_count": 25,
   "metadata": {},
   "outputs": [
    {
     "name": "stdout",
     "output_type": "stream",
     "text": [
      "F-measure (micor method):  0.6523668639053254\n",
      "F-measure (macor method):  0.6532592017760147\n",
      "F-measure (weighted method):  0.6578029029305088\n"
     ]
    }
   ],
   "source": [
    "print('F-measure (micor method): ', f1_score(y_test, yhat, average='micro'))\n",
    "print('F-measure (macor method): ', f1_score(y_test, yhat, average='macro'))\n",
    "print('F-measure (weighted method): ', f1_score(y_test, yhat, average='weighted'))"
   ]
  },
  {
   "cell_type": "code",
   "execution_count": 26,
   "metadata": {},
   "outputs": [
    {
     "name": "stdout",
     "output_type": "stream",
     "text": [
      "              precision    recall  f1-score   support\n",
      "\n",
      "           2       0.87      0.71      0.78       101\n",
      "           3       0.57      0.67      0.62       109\n",
      "           4       0.51      0.65      0.57       103\n",
      "           5       0.55      0.55      0.55       110\n",
      "           6       0.67      0.62      0.64       107\n",
      "           7       0.82      0.70      0.75       146\n",
      "\n",
      "    accuracy                           0.65       676\n",
      "   macro avg       0.66      0.65      0.65       676\n",
      "weighted avg       0.67      0.65      0.66       676\n",
      "\n"
     ]
    }
   ],
   "source": [
    "print(classification_report(y_test, yhat))"
   ]
  },
  {
   "cell_type": "code",
   "execution_count": 27,
   "metadata": {},
   "outputs": [
    {
     "data": {
      "text/plain": [
       "KNeighborsClassifier(n_neighbors=3)"
      ]
     },
     "execution_count": 27,
     "metadata": {},
     "output_type": "execute_result"
    }
   ],
   "source": [
    "from sklearn.neighbors import KNeighborsClassifier\n",
    "k = 3\n",
    "#Train Model and Predict  \n",
    "neigh = KNeighborsClassifier(n_neighbors = k).fit(X_train,y_train)\n",
    "neigh"
   ]
  },
  {
   "cell_type": "code",
   "execution_count": 28,
   "metadata": {},
   "outputs": [
    {
     "data": {
      "text/plain": [
       "array([4, 5, 3, 7, 2])"
      ]
     },
     "execution_count": 28,
     "metadata": {},
     "output_type": "execute_result"
    }
   ],
   "source": [
    "yhat = neigh.predict(X_test)\n",
    "yhat[0:5]"
   ]
  },
  {
   "cell_type": "code",
   "execution_count": 29,
   "metadata": {},
   "outputs": [
    {
     "name": "stdout",
     "output_type": "stream",
     "text": [
      "Train set Accuracy:  0.8605769230769231\n",
      "Test set Accuracy:  0.7144970414201184\n"
     ]
    }
   ],
   "source": [
    "from sklearn import metrics\n",
    "print(\"Train set Accuracy: \", metrics.accuracy_score(y_train, neigh.predict(X_train)))\n",
    "print(\"Test set Accuracy: \", metrics.accuracy_score(y_test, yhat))"
   ]
  },
  {
   "cell_type": "code",
   "execution_count": 30,
   "metadata": {},
   "outputs": [
    {
     "name": "stdout",
     "output_type": "stream",
     "text": [
      "Confusion matrix: \n",
      " [[ 85   6   0   5   1   4]\n",
      " [  1  83   7   8   8   2]\n",
      " [  0  15  68   8   9   3]\n",
      " [  3  12  12  72   8   3]\n",
      " [  0   9  17   8  67   6]\n",
      " [  4  10  11   8   5 108]]\n"
     ]
    }
   ],
   "source": [
    "from sklearn.metrics import classification_report, accuracy_score, confusion_matrix, recall_score, precision_score, f1_score\n",
    "print('Confusion matrix: \\n', confusion_matrix(y_test, yhat))"
   ]
  },
  {
   "cell_type": "code",
   "execution_count": 31,
   "metadata": {},
   "outputs": [
    {
     "name": "stdout",
     "output_type": "stream",
     "text": [
      "Precision (micor method):  0.7144970414201184\n",
      "Precision (macor method):  0.7202440737517944\n",
      "Precision (weighted method):  0.7266086677869136\n"
     ]
    }
   ],
   "source": [
    "print('Precision (micor method): ', precision_score(y_test, yhat, average='micro'))\n",
    "print('Precision (macor method): ', precision_score(y_test, yhat, average='macro'))\n",
    "print('Precision (weighted method): ', precision_score(y_test, yhat, average='weighted'))"
   ]
  },
  {
   "cell_type": "code",
   "execution_count": 32,
   "metadata": {},
   "outputs": [
    {
     "name": "stdout",
     "output_type": "stream",
     "text": [
      "Recall (micor method):  0.7144970414201184\n",
      "Recall (macor method):  0.7139476548871935\n",
      "Recall (weighted method):  0.7144970414201184\n"
     ]
    }
   ],
   "source": [
    "print('Recall (micor method): ', recall_score(y_test, yhat, average='micro'))\n",
    "print('Recall (macor method): ', recall_score(y_test, yhat, average='macro'))\n",
    "print('Recall (weighted method): ', recall_score(y_test, yhat, average='weighted'))"
   ]
  },
  {
   "cell_type": "code",
   "execution_count": 33,
   "metadata": {},
   "outputs": [
    {
     "name": "stdout",
     "output_type": "stream",
     "text": [
      "F-measure (micor method):  0.7144970414201184\n",
      "F-measure (macor method):  0.7142966949791633\n",
      "F-measure (weighted method):  0.7176467161043614\n"
     ]
    }
   ],
   "source": [
    "print('F-measure (micor method): ', f1_score(y_test, yhat, average='micro'))\n",
    "print('F-measure (macor method): ', f1_score(y_test, yhat, average='macro'))\n",
    "print('F-measure (weighted method): ', f1_score(y_test, yhat, average='weighted'))"
   ]
  },
  {
   "cell_type": "code",
   "execution_count": 34,
   "metadata": {},
   "outputs": [
    {
     "name": "stdout",
     "output_type": "stream",
     "text": [
      "              precision    recall  f1-score   support\n",
      "\n",
      "           2       0.91      0.84      0.88       101\n",
      "           3       0.61      0.76      0.68       109\n",
      "           4       0.59      0.66      0.62       103\n",
      "           5       0.66      0.65      0.66       110\n",
      "           6       0.68      0.63      0.65       107\n",
      "           7       0.86      0.74      0.79       146\n",
      "\n",
      "    accuracy                           0.71       676\n",
      "   macro avg       0.72      0.71      0.71       676\n",
      "weighted avg       0.73      0.71      0.72       676\n",
      "\n"
     ]
    }
   ],
   "source": [
    "print(classification_report(y_test, yhat))"
   ]
  },
  {
   "cell_type": "code",
   "execution_count": 35,
   "metadata": {},
   "outputs": [
    {
     "data": {
      "text/plain": [
       "KNeighborsClassifier()"
      ]
     },
     "execution_count": 35,
     "metadata": {},
     "output_type": "execute_result"
    }
   ],
   "source": [
    "from sklearn.neighbors import KNeighborsClassifier\n",
    "k = 5\n",
    "#Train Model and Predict  \n",
    "neigh = KNeighborsClassifier(n_neighbors = k).fit(X_train,y_train)\n",
    "neigh"
   ]
  },
  {
   "cell_type": "code",
   "execution_count": 36,
   "metadata": {},
   "outputs": [
    {
     "data": {
      "text/plain": [
       "array([4, 5, 3, 7, 2])"
      ]
     },
     "execution_count": 36,
     "metadata": {},
     "output_type": "execute_result"
    }
   ],
   "source": [
    "yhat = neigh.predict(X_test)\n",
    "yhat[0:5]"
   ]
  },
  {
   "cell_type": "code",
   "execution_count": 37,
   "metadata": {},
   "outputs": [
    {
     "name": "stdout",
     "output_type": "stream",
     "text": [
      "Train set Accuracy:  0.8006656804733728\n",
      "Test set Accuracy:  0.7026627218934911\n"
     ]
    }
   ],
   "source": [
    "from sklearn import metrics\n",
    "print(\"Train set Accuracy: \", metrics.accuracy_score(y_train, neigh.predict(X_train)))\n",
    "print(\"Test set Accuracy: \", metrics.accuracy_score(y_test, yhat))"
   ]
  },
  {
   "cell_type": "code",
   "execution_count": 38,
   "metadata": {},
   "outputs": [
    {
     "name": "stdout",
     "output_type": "stream",
     "text": [
      "Confusion matrix: \n",
      " [[ 80   8   1   7   1   4]\n",
      " [  1  78   9  12   6   3]\n",
      " [  0  13  74   6   7   3]\n",
      " [  2  11  13  72   7   5]\n",
      " [  1   8  19   7  66   6]\n",
      " [  7   7  12   9   6 105]]\n"
     ]
    }
   ],
   "source": [
    "from sklearn.metrics import classification_report, accuracy_score, confusion_matrix, recall_score, precision_score, f1_score\n",
    "print('Confusion matrix: \\n', confusion_matrix(y_test, yhat))"
   ]
  },
  {
   "cell_type": "code",
   "execution_count": 39,
   "metadata": {},
   "outputs": [
    {
     "name": "stdout",
     "output_type": "stream",
     "text": [
      "Precision (micor method):  0.7026627218934911\n",
      "Precision (macor method):  0.7102374622336619\n",
      "Precision (weighted method):  0.7160424998580835\n"
     ]
    }
   ],
   "source": [
    "print('Precision (micor method): ', precision_score(y_test, yhat, average='micro'))\n",
    "print('Precision (macor method): ', precision_score(y_test, yhat, average='macro'))\n",
    "print('Precision (weighted method): ', precision_score(y_test, yhat, average='weighted'))"
   ]
  },
  {
   "cell_type": "code",
   "execution_count": 40,
   "metadata": {},
   "outputs": [
    {
     "name": "stdout",
     "output_type": "stream",
     "text": [
      "Recall (micor method):  0.7026627218934911\n",
      "Recall (macor method):  0.7027780177969243\n",
      "Recall (weighted method):  0.7026627218934911\n"
     ]
    }
   ],
   "source": [
    "print('Recall (micor method): ', recall_score(y_test, yhat, average='micro'))\n",
    "print('Recall (macor method): ', recall_score(y_test, yhat, average='macro'))\n",
    "print('Recall (weighted method): ', recall_score(y_test, yhat, average='weighted'))"
   ]
  },
  {
   "cell_type": "code",
   "execution_count": 41,
   "metadata": {},
   "outputs": [
    {
     "name": "stdout",
     "output_type": "stream",
     "text": [
      "F-measure (micor method):  0.7026627218934911\n",
      "F-measure (macor method):  0.7030818957559924\n",
      "F-measure (weighted method):  0.7059122096072465\n"
     ]
    }
   ],
   "source": [
    "print('F-measure (micor method): ', f1_score(y_test, yhat, average='micro'))\n",
    "print('F-measure (macor method): ', f1_score(y_test, yhat, average='macro'))\n",
    "print('F-measure (weighted method): ', f1_score(y_test, yhat, average='weighted'))"
   ]
  },
  {
   "cell_type": "code",
   "execution_count": 42,
   "metadata": {},
   "outputs": [
    {
     "name": "stdout",
     "output_type": "stream",
     "text": [
      "              precision    recall  f1-score   support\n",
      "\n",
      "           2       0.88      0.79      0.83       101\n",
      "           3       0.62      0.72      0.67       109\n",
      "           4       0.58      0.72      0.64       103\n",
      "           5       0.64      0.65      0.65       110\n",
      "           6       0.71      0.62      0.66       107\n",
      "           7       0.83      0.72      0.77       146\n",
      "\n",
      "    accuracy                           0.70       676\n",
      "   macro avg       0.71      0.70      0.70       676\n",
      "weighted avg       0.72      0.70      0.71       676\n",
      "\n"
     ]
    }
   ],
   "source": [
    "print(classification_report(y_test, yhat))"
   ]
  },
  {
   "cell_type": "markdown",
   "metadata": {},
   "source": [
    "# Classification With ‫‪K-fold‬‬ ‫‪cross‬‬ ‫‪validation‬‬ k=3"
   ]
  },
  {
   "cell_type": "code",
   "execution_count": 43,
   "metadata": {},
   "outputs": [
    {
     "name": "stdout",
     "output_type": "stream",
     "text": [
      "Fold:1, Train set: 2253, Test set:1127\n",
      "Fold:2, Train set: 2253, Test set:1127\n",
      "Fold:3, Train set: 2254, Test set:1126\n"
     ]
    }
   ],
   "source": [
    "from sklearn.model_selection import KFold, StratifiedKFold, cross_val_score\n",
    "kf = StratifiedKFold(n_splits=3)\n",
    "cnt=1\n",
    "for train_index, test_index in kf.split(X, y):\n",
    "    print(f'Fold:{cnt}, Train set: {len(train_index)}, Test set:{len(test_index)}')\n",
    "    cnt+=1"
   ]
  },
  {
   "cell_type": "markdown",
   "metadata": {},
   "source": [
    "# K-NN wiht K=1"
   ]
  },
  {
   "cell_type": "code",
   "execution_count": 44,
   "metadata": {
    "scrolled": true
   },
   "outputs": [
    {
     "name": "stdout",
     "output_type": "stream",
     "text": [
      "Training time: 0.35059690475463867s\n",
      "----------------------------------------Accuracy----------------------------------------\n",
      "Scores for each fold are: [0.31322094 0.30346051 0.30284192]\n",
      "Average score: 0.31\n",
      "0.31 accuracy with a standard deviation of 0.00\n",
      "----------------------------------------Precision----------------------------------------\n",
      "Scores for each fold are: [0.31856358 0.32545572 0.36465965]\n",
      "Average score: 0.34\n",
      "0.34 precision with a standard deviation of 0.02\n",
      "----------------------------------------Recall----------------------------------------\n",
      "Scores for each fold are: [0.31629516 0.32135813 0.31154352]\n",
      "Average score: 0.32\n",
      "0.32 recall with a standard deviation of 0.00\n",
      "----------------------------------------F1-Measure----------------------------------------\n",
      "Scores for each fold are: [0.28635714 0.30632126 0.30228206]\n",
      "Average score: 0.30\n",
      "0.30 f1-measure with a standard deviation of 0.01\n"
     ]
    }
   ],
   "source": [
    "start = time.time()\n",
    "score_a = cross_val_score(KNeighborsClassifier(n_neighbors = 1), X, y, cv= kf, scoring=\"accuracy\")\n",
    "stop = time.time()\n",
    "print(f\"Training time: {stop - start}s\")\n",
    "score_p = cross_val_score(KNeighborsClassifier(n_neighbors = 1), X, y, cv= kf, scoring=\"precision_macro\")\n",
    "score_r = cross_val_score(KNeighborsClassifier(n_neighbors = 1), X, y, cv= kf, scoring=\"recall_macro\")\n",
    "score_f = cross_val_score(KNeighborsClassifier(n_neighbors = 1), X, y, cv= kf, scoring=\"f1_macro\")\n",
    "\n",
    "\n",
    "#print acc output\n",
    "print('-'*40 + 'Accuracy' + '-'*40)\n",
    "print(f'Scores for each fold are: {score_a}')\n",
    "print(f'Average score: {\"{:.2f}\".format(score_a.mean())}')\n",
    "print(\"%0.2f accuracy with a standard deviation of %0.2f\" % (score_a.mean(), score_a.std()))\n",
    "\n",
    "#print pre output\n",
    "\n",
    "print('-'*40 + 'Precision' + '-'*40 )\n",
    "print(f'Scores for each fold are: {score_p}')\n",
    "print(f'Average score: {\"{:.2f}\".format(score_p.mean())}')\n",
    "print(\"%0.2f precision with a standard deviation of %0.2f\" % (score_p.mean(), score_p.std()))\n",
    "\n",
    "#print rec output\n",
    "print('-'*40 + 'Recall' + '-'*40)\n",
    "\n",
    "print(f'Scores for each fold are: {score_r}')\n",
    "print(f'Average score: {\"{:.2f}\".format(score_r.mean())}')\n",
    "print(\"%0.2f recall with a standard deviation of %0.2f\" % (score_r.mean(), score_r.std()))\n",
    "\n",
    "#print d1 output\n",
    "print('-'*40 + 'F1-Measure' + '-'*40)\n",
    "\n",
    "print(f'Scores for each fold are: {score_f}')\n",
    "print(f'Average score: {\"{:.2f}\".format(score_f.mean())}')\n",
    "print(\"%0.2f f1-measure with a standard deviation of %0.2f\" % (score_f.mean(), score_f.std()))"
   ]
  },
  {
   "cell_type": "markdown",
   "metadata": {},
   "source": [
    "# K-NN wiht K=3"
   ]
  },
  {
   "cell_type": "code",
   "execution_count": 45,
   "metadata": {},
   "outputs": [
    {
     "name": "stdout",
     "output_type": "stream",
     "text": [
      "Training time: 0.3945276737213135s\n",
      "----------------------------------------Accuracy----------------------------------------\n",
      "Scores for each fold are: [0.31322094 0.28748891 0.29484902]\n",
      "Average score: 0.30\n",
      "0.30 accuracy with a standard deviation of 0.01\n",
      "----------------------------------------Precision----------------------------------------\n",
      "Scores for each fold are: [0.33549936 0.30354044 0.34347545]\n",
      "Average score: 0.33\n",
      "0.33 precision with a standard deviation of 0.02\n",
      "----------------------------------------Recall----------------------------------------\n",
      "Scores for each fold are: [0.31985031 0.30625504 0.30350397]\n",
      "Average score: 0.31\n",
      "0.31 recall with a standard deviation of 0.01\n",
      "----------------------------------------F1-Measure----------------------------------------\n",
      "Scores for each fold are: [0.29360692 0.28863899 0.28957799]\n",
      "Average score: 0.29\n",
      "0.29 f1-measure with a standard deviation of 0.00\n"
     ]
    }
   ],
   "source": [
    "start = time.time()\n",
    "score_a = cross_val_score(KNeighborsClassifier(n_neighbors = 3), X, y, cv= kf, scoring=\"accuracy\")\n",
    "stop = time.time()\n",
    "print(f\"Training time: {stop - start}s\")\n",
    "score_p = cross_val_score(KNeighborsClassifier(n_neighbors = 3), X, y, cv= kf, scoring=\"precision_macro\")\n",
    "score_r = cross_val_score(KNeighborsClassifier(n_neighbors = 3), X, y, cv= kf, scoring=\"recall_macro\")\n",
    "score_f = cross_val_score(KNeighborsClassifier(n_neighbors = 3), X, y, cv= kf, scoring=\"f1_macro\")\n",
    "\n",
    "\n",
    "#print acc output\n",
    "print('-'*40 + 'Accuracy' + '-'*40)\n",
    "print(f'Scores for each fold are: {score_a}')\n",
    "print(f'Average score: {\"{:.2f}\".format(score_a.mean())}')\n",
    "print(\"%0.2f accuracy with a standard deviation of %0.2f\" % (score_a.mean(), score_a.std()))\n",
    "\n",
    "#print pre output\n",
    "\n",
    "print('-'*40 + 'Precision' + '-'*40 )\n",
    "print(f'Scores for each fold are: {score_p}')\n",
    "print(f'Average score: {\"{:.2f}\".format(score_p.mean())}')\n",
    "print(\"%0.2f precision with a standard deviation of %0.2f\" % (score_p.mean(), score_p.std()))\n",
    "\n",
    "#print rec output\n",
    "print('-'*40 + 'Recall' + '-'*40)\n",
    "\n",
    "print(f'Scores for each fold are: {score_r}')\n",
    "print(f'Average score: {\"{:.2f}\".format(score_r.mean())}')\n",
    "print(\"%0.2f recall with a standard deviation of %0.2f\" % (score_r.mean(), score_r.std()))\n",
    "\n",
    "#print d1 output\n",
    "print('-'*40 + 'F1-Measure' + '-'*40)\n",
    "\n",
    "print(f'Scores for each fold are: {score_f}')\n",
    "print(f'Average score: {\"{:.2f}\".format(score_f.mean())}')\n",
    "print(\"%0.2f f1-measure with a standard deviation of %0.2f\" % (score_f.mean(), score_f.std()))"
   ]
  },
  {
   "cell_type": "markdown",
   "metadata": {},
   "source": [
    "# K-NN wiht K=5"
   ]
  },
  {
   "cell_type": "code",
   "execution_count": 46,
   "metadata": {},
   "outputs": [
    {
     "name": "stdout",
     "output_type": "stream",
     "text": [
      "Training time: 0.3612327575683594s\n",
      "----------------------------------------Accuracy----------------------------------------\n",
      "Scores for each fold are: [0.30700976 0.28482697 0.29396092]\n",
      "Average score: 0.30\n",
      "0.30 accuracy with a standard deviation of 0.01\n",
      "----------------------------------------Precision----------------------------------------\n",
      "Scores for each fold are: [0.3392506  0.29745534 0.34373847]\n",
      "Average score: 0.33\n",
      "0.33 precision with a standard deviation of 0.02\n",
      "----------------------------------------Recall----------------------------------------\n",
      "Scores for each fold are: [0.31281683 0.30288134 0.30373578]\n",
      "Average score: 0.31\n",
      "0.31 recall with a standard deviation of 0.00\n",
      "----------------------------------------F1-Measure----------------------------------------\n",
      "Scores for each fold are: [0.29150388 0.28174901 0.292489  ]\n",
      "Average score: 0.29\n",
      "0.29 f1-measure with a standard deviation of 0.00\n"
     ]
    }
   ],
   "source": [
    "start = time.time()\n",
    "score_a = cross_val_score(KNeighborsClassifier(n_neighbors = 5), X, y, cv= kf, scoring=\"accuracy\")\n",
    "stop = time.time()\n",
    "print(f\"Training time: {stop - start}s\")\n",
    "score_p = cross_val_score(KNeighborsClassifier(n_neighbors = 5), X, y, cv= kf, scoring=\"precision_macro\")\n",
    "score_r = cross_val_score(KNeighborsClassifier(n_neighbors = 5), X, y, cv= kf, scoring=\"recall_macro\")\n",
    "score_f = cross_val_score(KNeighborsClassifier(n_neighbors = 5), X, y, cv= kf, scoring=\"f1_macro\")\n",
    "\n",
    "\n",
    "#print acc output\n",
    "print('-'*40 + 'Accuracy' + '-'*40)\n",
    "print(f'Scores for each fold are: {score_a}')\n",
    "print(f'Average score: {\"{:.2f}\".format(score_a.mean())}')\n",
    "print(\"%0.2f accuracy with a standard deviation of %0.2f\" % (score_a.mean(), score_a.std()))\n",
    "\n",
    "#print pre output\n",
    "\n",
    "print('-'*40 + 'Precision' + '-'*40 )\n",
    "print(f'Scores for each fold are: {score_p}')\n",
    "print(f'Average score: {\"{:.2f}\".format(score_p.mean())}')\n",
    "print(\"%0.2f precision with a standard deviation of %0.2f\" % (score_p.mean(), score_p.std()))\n",
    "\n",
    "#print rec output\n",
    "print('-'*40 + 'Recall' + '-'*40)\n",
    "\n",
    "print(f'Scores for each fold are: {score_r}')\n",
    "print(f'Average score: {\"{:.2f}\".format(score_r.mean())}')\n",
    "print(\"%0.2f recall with a standard deviation of %0.2f\" % (score_r.mean(), score_r.std()))\n",
    "\n",
    "#print d1 output\n",
    "print('-'*40 + 'F1-Measure' + '-'*40)\n",
    "\n",
    "print(f'Scores for each fold are: {score_f}')\n",
    "print(f'Average score: {\"{:.2f}\".format(score_f.mean())}')\n",
    "print(\"%0.2f f1-measure with a standard deviation of %0.2f\" % (score_f.mean(), score_f.std()))"
   ]
  },
  {
   "cell_type": "markdown",
   "metadata": {},
   "source": [
    "# Decision Tree"
   ]
  },
  {
   "cell_type": "code",
   "execution_count": 47,
   "metadata": {},
   "outputs": [],
   "source": [
    "from sklearn import  tree"
   ]
  },
  {
   "cell_type": "markdown",
   "metadata": {},
   "source": [
    "# Decision Tree With Entroy(Info-G)"
   ]
  },
  {
   "cell_type": "code",
   "execution_count": 48,
   "metadata": {},
   "outputs": [
    {
     "name": "stdout",
     "output_type": "stream",
     "text": [
      "Training time: 0.10630488395690918s\n",
      "----------------------------------------Accuracy----------------------------------------\n",
      "Scores for each fold are: [0.4338953  0.40017746 0.43339254]\n",
      "Average score: 0.42\n",
      "0.42 accuracy with a standard deviation of 0.02\n",
      "----------------------------------------Precision----------------------------------------\n",
      "Scores for each fold are: [0.43127944 0.41723693 0.53912871]\n",
      "Average score: 0.46\n",
      "0.46 precision with a standard deviation of 0.05\n",
      "----------------------------------------Recall----------------------------------------\n",
      "Scores for each fold are: [0.42484103 0.41524317 0.44790069]\n",
      "Average score: 0.43\n",
      "0.43 recall with a standard deviation of 0.01\n",
      "----------------------------------------F1-Measure----------------------------------------\n",
      "Scores for each fold are: [0.3752489  0.39454018 0.42275063]\n",
      "Average score: 0.40\n",
      "0.40 f1-measure with a standard deviation of 0.02\n"
     ]
    }
   ],
   "source": [
    "\n",
    "start = time.time()\n",
    "score_a = cross_val_score(tree.DecisionTreeClassifier(criterion='entropy' , random_state= 42), X, y, cv= kf,\n",
    "                           scoring=\"accuracy\")\n",
    "stop = time.time()\n",
    "\n",
    "print(f\"Training time: {stop - start}s\")\n",
    "score_p = cross_val_score(tree.DecisionTreeClassifier(criterion='entropy' , random_state= 42), X, y, cv= kf,\n",
    "                          scoring=\"precision_macro\")\n",
    "score_r = cross_val_score(tree.DecisionTreeClassifier(criterion='entropy' , random_state= 42), X, y, cv= kf,\n",
    "                          scoring=\"recall_macro\")\n",
    "score_f = cross_val_score(tree.DecisionTreeClassifier(criterion='entropy' , random_state= 42), X, y, cv= kf,\n",
    "                          scoring=\"f1_macro\")\n",
    "\n",
    "\n",
    "#print acc output\n",
    "print('-'*40 + 'Accuracy' + '-'*40)\n",
    "print(f'Scores for each fold are: {score_a}')\n",
    "print(f'Average score: {\"{:.2f}\".format(score_a.mean())}')\n",
    "print(\"%0.2f accuracy with a standard deviation of %0.2f\" % (score_a.mean(), score_a.std()))\n",
    "\n",
    "#print pre output\n",
    "\n",
    "print('-'*40 + 'Precision' + '-'*40 )\n",
    "print(f'Scores for each fold are: {score_p}')\n",
    "print(f'Average score: {\"{:.2f}\".format(score_p.mean())}')\n",
    "print(\"%0.2f precision with a standard deviation of %0.2f\" % (score_p.mean(), score_p.std()))\n",
    "\n",
    "#print rec output\n",
    "print('-'*40 + 'Recall' + '-'*40)\n",
    "\n",
    "print(f'Scores for each fold are: {score_r}')\n",
    "print(f'Average score: {\"{:.2f}\".format(score_r.mean())}')\n",
    "print(\"%0.2f recall with a standard deviation of %0.2f\" % (score_r.mean(), score_r.std()))\n",
    "\n",
    "#print d1 output\n",
    "print('-'*40 + 'F1-Measure' + '-'*40)\n",
    "\n",
    "print(f'Scores for each fold are: {score_f}')\n",
    "print(f'Average score: {\"{:.2f}\".format(score_f.mean())}')\n",
    "print(\"%0.2f f1-measure with a standard deviation of %0.2f\" % (score_f.mean(), score_f.std()))"
   ]
  },
  {
   "cell_type": "markdown",
   "metadata": {},
   "source": [
    "# Decision Tree With Gini"
   ]
  },
  {
   "cell_type": "code",
   "execution_count": 49,
   "metadata": {},
   "outputs": [
    {
     "name": "stdout",
     "output_type": "stream",
     "text": [
      "Training time: 0.0675666332244873s\n",
      "----------------------------------------Accuracy----------------------------------------\n",
      "Scores for each fold are: [0.39219166 0.50133097 0.5       ]\n",
      "Average score: 0.46\n",
      "0.46 accuracy with a standard deviation of 0.05\n",
      "----------------------------------------Precision----------------------------------------\n",
      "Scores for each fold are: [0.46574264 0.52676604 0.4698366 ]\n",
      "Average score: 0.49\n",
      "0.49 precision with a standard deviation of 0.03\n",
      "----------------------------------------Recall----------------------------------------\n",
      "Scores for each fold are: [0.38736349 0.51208142 0.49767666]\n",
      "Average score: 0.47\n",
      "0.47 recall with a standard deviation of 0.06\n",
      "----------------------------------------F1-Measure----------------------------------------\n",
      "Scores for each fold are: [0.33985188 0.49833961 0.46450781]\n",
      "Average score: 0.43\n",
      "0.43 f1-measure with a standard deviation of 0.07\n"
     ]
    }
   ],
   "source": [
    "start = time.time()\n",
    "score_a = cross_val_score(tree.DecisionTreeClassifier(criterion='gini' , random_state= 42), X, y, cv= kf,\n",
    "                           scoring=\"accuracy\")\n",
    "stop = time.time()\n",
    "\n",
    "print(f\"Training time: {stop - start}s\")\n",
    "score_p = cross_val_score(tree.DecisionTreeClassifier(criterion='gini' , random_state= 42), X, y, cv= kf,\n",
    "                          scoring=\"precision_macro\")\n",
    "score_r = cross_val_score(tree.DecisionTreeClassifier(criterion='gini' , random_state= 42), X, y, cv= kf,\n",
    "                          scoring=\"recall_macro\")\n",
    "score_f = cross_val_score(tree.DecisionTreeClassifier(criterion='gini' , random_state= 42), X, y, cv= kf,\n",
    "                          scoring=\"f1_macro\")\n",
    "\n",
    "\n",
    "#print acc output\n",
    "print('-'*40 + 'Accuracy' + '-'*40)\n",
    "print(f'Scores for each fold are: {score_a}')\n",
    "print(f'Average score: {\"{:.2f}\".format(score_a.mean())}')\n",
    "print(\"%0.2f accuracy with a standard deviation of %0.2f\" % (score_a.mean(), score_a.std()))\n",
    "\n",
    "#print pre output\n",
    "\n",
    "print('-'*40 + 'Precision' + '-'*40 )\n",
    "print(f'Scores for each fold are: {score_p}')\n",
    "print(f'Average score: {\"{:.2f}\".format(score_p.mean())}')\n",
    "print(\"%0.2f precision with a standard deviation of %0.2f\" % (score_p.mean(), score_p.std()))\n",
    "\n",
    "#print rec output\n",
    "print('-'*40 + 'Recall' + '-'*40)\n",
    "\n",
    "print(f'Scores for each fold are: {score_r}')\n",
    "print(f'Average score: {\"{:.2f}\".format(score_r.mean())}')\n",
    "print(\"%0.2f recall with a standard deviation of %0.2f\" % (score_r.mean(), score_r.std()))\n",
    "\n",
    "#print d1 output\n",
    "print('-'*40 + 'F1-Measure' + '-'*40)\n",
    "\n",
    "print(f'Scores for each fold are: {score_f}')\n",
    "print(f'Average score: {\"{:.2f}\".format(score_f.mean())}')\n",
    "print(\"%0.2f f1-measure with a standard deviation of %0.2f\" % (score_f.mean(), score_f.std()))"
   ]
  },
  {
   "cell_type": "markdown",
   "metadata": {},
   "source": [
    "# Naive Bayes"
   ]
  },
  {
   "cell_type": "code",
   "execution_count": 50,
   "metadata": {},
   "outputs": [],
   "source": [
    "from sklearn import naive_bayes"
   ]
  },
  {
   "cell_type": "code",
   "execution_count": 51,
   "metadata": {
    "scrolled": true
   },
   "outputs": [
    {
     "name": "stdout",
     "output_type": "stream",
     "text": [
      "Training time: 0.018065929412841797s\n",
      "----------------------------------------Accuracy----------------------------------------\n",
      "Scores for each fold are: [0.33096717 0.23513753 0.36056838]\n",
      "Average score: 0.31\n",
      "0.31 accuracy with a standard deviation of 0.05\n",
      "----------------------------------------Precision----------------------------------------\n",
      "Scores for each fold are: [0.32836146 0.25418544 0.30037037]\n",
      "Average score: 0.29\n",
      "0.29 precision with a standard deviation of 0.03\n",
      "----------------------------------------Recall----------------------------------------\n",
      "Scores for each fold are: [0.34454908 0.22798461 0.32627873]\n",
      "Average score: 0.30\n",
      "0.30 recall with a standard deviation of 0.05\n",
      "----------------------------------------F1-Measure----------------------------------------\n",
      "Scores for each fold are: [0.29822832 0.19611352 0.23487086]\n",
      "Average score: 0.24\n",
      "0.24 f1-measure with a standard deviation of 0.04\n"
     ]
    },
    {
     "name": "stderr",
     "output_type": "stream",
     "text": [
      "/home/saeed/.local/lib/python3.8/site-packages/sklearn/metrics/_classification.py:1308: UndefinedMetricWarning: Precision is ill-defined and being set to 0.0 in labels with no predicted samples. Use `zero_division` parameter to control this behavior.\n",
      "  _warn_prf(average, modifier, msg_start, len(result))\n",
      "/home/saeed/.local/lib/python3.8/site-packages/sklearn/metrics/_classification.py:1308: UndefinedMetricWarning: Precision is ill-defined and being set to 0.0 in labels with no predicted samples. Use `zero_division` parameter to control this behavior.\n",
      "  _warn_prf(average, modifier, msg_start, len(result))\n"
     ]
    }
   ],
   "source": [
    "\n",
    "start = time.time()\n",
    "\n",
    "score_a = cross_val_score(naive_bayes.GaussianNB(), X, y, cv= kf,scoring=\"accuracy\")\n",
    "\n",
    "stop = time.time()\n",
    "print(f\"Training time: {stop - start}s\")\n",
    "\n",
    "score_p = cross_val_score(naive_bayes.GaussianNB(), X, y, cv= kf,scoring=\"precision_macro\")\n",
    "\n",
    "score_r = cross_val_score(naive_bayes.GaussianNB(), X, y, cv= kf,scoring=\"recall_macro\")\n",
    "\n",
    "score_f = cross_val_score(naive_bayes.GaussianNB(), X, y, cv= kf,scoring=\"f1_macro\")\n",
    "\n",
    "\n",
    "#print acc output\n",
    "print('-'*40 + 'Accuracy' + '-'*40)\n",
    "print(f'Scores for each fold are: {score_a}')\n",
    "print(f'Average score: {\"{:.2f}\".format(score_a.mean())}')\n",
    "print(\"%0.2f accuracy with a standard deviation of %0.2f\" % (score_a.mean(), score_a.std()))\n",
    "\n",
    "#print pre output\n",
    "\n",
    "print('-'*40 + 'Precision' + '-'*40 )\n",
    "print(f'Scores for each fold are: {score_p}')\n",
    "print(f'Average score: {\"{:.2f}\".format(score_p.mean())}')\n",
    "print(\"%0.2f precision with a standard deviation of %0.2f\" % (score_p.mean(), score_p.std()))\n",
    "\n",
    "#print rec output\n",
    "print('-'*40 + 'Recall' + '-'*40)\n",
    "\n",
    "print(f'Scores for each fold are: {score_r}')\n",
    "print(f'Average score: {\"{:.2f}\".format(score_r.mean())}')\n",
    "print(\"%0.2f recall with a standard deviation of %0.2f\" % (score_r.mean(), score_r.std()))\n",
    "\n",
    "#print d1 output\n",
    "print('-'*40 + 'F1-Measure' + '-'*40)\n",
    "\n",
    "print(f'Scores for each fold are: {score_f}')\n",
    "print(f'Average score: {\"{:.2f}\".format(score_f.mean())}')\n",
    "print(\"%0.2f f1-measure with a standard deviation of %0.2f\" % (score_f.mean(), score_f.std()))"
   ]
  },
  {
   "cell_type": "markdown",
   "metadata": {},
   "source": [
    "# SVM"
   ]
  },
  {
   "cell_type": "code",
   "execution_count": 52,
   "metadata": {},
   "outputs": [],
   "source": [
    "from sklearn import svm"
   ]
  },
  {
   "cell_type": "markdown",
   "metadata": {},
   "source": [
    "# SVM With RBF\n"
   ]
  },
  {
   "cell_type": "code",
   "execution_count": 53,
   "metadata": {},
   "outputs": [
    {
     "name": "stdout",
     "output_type": "stream",
     "text": [
      "Training time: 1.293910026550293s\n",
      "----------------------------------------Accuracy----------------------------------------\n",
      "Scores for each fold are: [0.24933452 0.31233363 0.44138544]\n",
      "Average score: 0.33\n",
      "0.33 accuracy with a standard deviation of 0.08\n",
      "----------------------------------------Precision----------------------------------------\n",
      "Scores for each fold are: [0.38157832 0.32127907 0.46934398]\n",
      "Average score: 0.39\n",
      "0.39 precision with a standard deviation of 0.06\n",
      "----------------------------------------Recall----------------------------------------\n",
      "Scores for each fold are: [0.26286049 0.33049039 0.4280978 ]\n",
      "Average score: 0.34\n",
      "0.34 recall with a standard deviation of 0.07\n",
      "----------------------------------------F1-Measure----------------------------------------\n",
      "Scores for each fold are: [0.2350817  0.30518648 0.39308434]\n",
      "Average score: 0.31\n",
      "0.31 f1-measure with a standard deviation of 0.06\n"
     ]
    }
   ],
   "source": [
    "from sklearn import svm\n",
    "\n",
    "start = time.time()\n",
    "\n",
    "score_a = cross_val_score(svm.SVC(kernel='rbf', random_state= 42), X, y, cv= kf,scoring=\"accuracy\")\n",
    "\n",
    "stop = time.time()\n",
    "print(f\"Training time: {stop - start}s\")\n",
    "\n",
    "score_p = cross_val_score(svm.SVC(kernel='rbf' , random_state= 42), X, y, cv= kf,scoring=\"precision_macro\")\n",
    "\n",
    "score_r = cross_val_score(svm.SVC(kernel='rbf' , random_state= 42), X, y, cv= kf,scoring=\"recall_macro\")\n",
    "\n",
    "score_f = cross_val_score(svm.SVC(kernel='rbf' , random_state= 42), X, y, cv= kf,scoring=\"f1_macro\")\n",
    "\n",
    "\n",
    "#print acc output\n",
    "print('-'*40 + 'Accuracy' + '-'*40)\n",
    "print(f'Scores for each fold are: {score_a}')\n",
    "print(f'Average score: {\"{:.2f}\".format(score_a.mean())}')\n",
    "print(\"%0.2f accuracy with a standard deviation of %0.2f\" % (score_a.mean(), score_a.std()))\n",
    "\n",
    "#print pre output\n",
    "\n",
    "print('-'*40 + 'Precision' + '-'*40 )\n",
    "print(f'Scores for each fold are: {score_p}')\n",
    "print(f'Average score: {\"{:.2f}\".format(score_p.mean())}')\n",
    "print(\"%0.2f precision with a standard deviation of %0.2f\" % (score_p.mean(), score_p.std()))\n",
    "\n",
    "#print rec output\n",
    "print('-'*40 + 'Recall' + '-'*40)\n",
    "\n",
    "print(f'Scores for each fold are: {score_r}')\n",
    "print(f'Average score: {\"{:.2f}\".format(score_r.mean())}')\n",
    "print(\"%0.2f recall with a standard deviation of %0.2f\" % (score_r.mean(), score_r.std()))\n",
    "\n",
    "#print d1 output\n",
    "print('-'*40 + 'F1-Measure' + '-'*40)\n",
    "\n",
    "print(f'Scores for each fold are: {score_f}')\n",
    "print(f'Average score: {\"{:.2f}\".format(score_f.mean())}')\n",
    "print(\"%0.2f f1-measure with a standard deviation of %0.2f\" % (score_f.mean(), score_f.std()))"
   ]
  },
  {
   "cell_type": "markdown",
   "metadata": {},
   "source": [
    "# SVM With Poly"
   ]
  },
  {
   "cell_type": "code",
   "execution_count": 54,
   "metadata": {},
   "outputs": [
    {
     "name": "stdout",
     "output_type": "stream",
     "text": [
      "Training time: 0.8992810249328613s\n",
      "----------------------------------------Accuracy----------------------------------------\n",
      "Scores for each fold are: [0.1934339  0.23868678 0.21580817]\n",
      "Average score: 0.22\n",
      "0.22 accuracy with a standard deviation of 0.02\n",
      "----------------------------------------Precision----------------------------------------\n",
      "Scores for each fold are: [0.19787969 0.2374657  0.19031174]\n",
      "Average score: 0.21\n",
      "0.21 precision with a standard deviation of 0.02\n",
      "----------------------------------------Recall----------------------------------------\n",
      "Scores for each fold are: [0.21383907 0.23507182 0.22088735]\n",
      "Average score: 0.22\n",
      "0.22 recall with a standard deviation of 0.01\n",
      "----------------------------------------F1-Measure----------------------------------------\n",
      "Scores for each fold are: [0.15000065 0.20659744 0.18510725]\n",
      "Average score: 0.18\n",
      "0.18 f1-measure with a standard deviation of 0.02\n"
     ]
    }
   ],
   "source": [
    "\n",
    "start = time.time()\n",
    "\n",
    "score_a = cross_val_score(svm.SVC(kernel='poly', random_state= 42), X, y, cv= kf,scoring=\"accuracy\")\n",
    "\n",
    "stop = time.time()\n",
    "print(f\"Training time: {stop - start}s\")\n",
    "\n",
    "score_p = cross_val_score(svm.SVC(kernel='poly' , random_state= 42), X, y, cv= kf,scoring=\"precision_macro\")\n",
    "\n",
    "score_r = cross_val_score(svm.SVC(kernel='poly' , random_state= 42), X, y, cv= kf,scoring=\"recall_macro\")\n",
    "\n",
    "score_f = cross_val_score(svm.SVC(kernel='poly' , random_state= 42), X, y, cv= kf,scoring=\"f1_macro\")\n",
    "\n",
    "\n",
    "#print acc output\n",
    "print('-'*40 + 'Accuracy' + '-'*40)\n",
    "print(f'Scores for each fold are: {score_a}')\n",
    "print(f'Average score: {\"{:.2f}\".format(score_a.mean())}')\n",
    "print(\"%0.2f accuracy with a standard deviation of %0.2f\" % (score_a.mean(), score_a.std()))\n",
    "\n",
    "#print pre output\n",
    "\n",
    "print('-'*40 + 'Precision' + '-'*40 )\n",
    "print(f'Scores for each fold are: {score_p}')\n",
    "print(f'Average score: {\"{:.2f}\".format(score_p.mean())}')\n",
    "print(\"%0.2f precision with a standard deviation of %0.2f\" % (score_p.mean(), score_p.std()))\n",
    "\n",
    "#print rec output\n",
    "print('-'*40 + 'Recall' + '-'*40)\n",
    "\n",
    "print(f'Scores for each fold are: {score_r}')\n",
    "print(f'Average score: {\"{:.2f}\".format(score_r.mean())}')\n",
    "print(\"%0.2f recall with a standard deviation of %0.2f\" % (score_r.mean(), score_r.std()))\n",
    "\n",
    "#print d1 output\n",
    "print('-'*40 + 'F1-Measure' + '-'*40)\n",
    "\n",
    "print(f'Scores for each fold are: {score_f}')\n",
    "print(f'Average score: {\"{:.2f}\".format(score_f.mean())}')\n",
    "print(\"%0.2f f1-measure with a standard deviation of %0.2f\" % (score_f.mean(), score_f.std()))"
   ]
  },
  {
   "cell_type": "markdown",
   "metadata": {},
   "source": [
    "# SVM With sigmoid"
   ]
  },
  {
   "cell_type": "code",
   "execution_count": 55,
   "metadata": {
    "scrolled": true
   },
   "outputs": [
    {
     "name": "stdout",
     "output_type": "stream",
     "text": [
      "Training time: 1.7692499160766602s\n",
      "----------------------------------------Accuracy----------------------------------------\n",
      "Scores for each fold are: [0.15882875 0.20319432 0.28063943]\n",
      "Average score: 0.21\n",
      "0.21 accuracy with a standard deviation of 0.05\n",
      "----------------------------------------Precision----------------------------------------\n",
      "Scores for each fold are: [0.16199563 0.21347625 0.2281192 ]\n",
      "Average score: 0.20\n",
      "0.20 precision with a standard deviation of 0.03\n",
      "----------------------------------------Recall----------------------------------------\n",
      "Scores for each fold are: [0.17347566 0.2038005  0.25967933]\n",
      "Average score: 0.21\n",
      "0.21 recall with a standard deviation of 0.04\n",
      "----------------------------------------F1-Measure----------------------------------------\n",
      "Scores for each fold are: [0.12462308 0.1954078  0.22985703]\n",
      "Average score: 0.18\n",
      "0.18 f1-measure with a standard deviation of 0.04\n"
     ]
    }
   ],
   "source": [
    "start = time.time()\n",
    "\n",
    "score_a = cross_val_score(svm.SVC(kernel='sigmoid', random_state= 42), X, y, cv= kf,scoring=\"accuracy\")\n",
    "\n",
    "stop = time.time()\n",
    "print(f\"Training time: {stop - start}s\")\n",
    "\n",
    "score_p = cross_val_score(svm.SVC(kernel='sigmoid' , random_state= 42), X, y, cv= kf,scoring=\"precision_macro\")\n",
    "\n",
    "score_r = cross_val_score(svm.SVC(kernel='sigmoid' , random_state= 42), X, y, cv= kf,scoring=\"recall_macro\")\n",
    "\n",
    "score_f = cross_val_score(svm.SVC(kernel='sigmoid' , random_state= 42), X, y, cv= kf,scoring=\"f1_macro\")\n",
    "\n",
    "\n",
    "#print acc output\n",
    "print('-'*40 + 'Accuracy' + '-'*40)\n",
    "print(f'Scores for each fold are: {score_a}')\n",
    "print(f'Average score: {\"{:.2f}\".format(score_a.mean())}')\n",
    "print(\"%0.2f accuracy with a standard deviation of %0.2f\" % (score_a.mean(), score_a.std()))\n",
    "\n",
    "#print pre output\n",
    "\n",
    "print('-'*40 + 'Precision' + '-'*40 )\n",
    "print(f'Scores for each fold are: {score_p}')\n",
    "print(f'Average score: {\"{:.2f}\".format(score_p.mean())}')\n",
    "print(\"%0.2f precision with a standard deviation of %0.2f\" % (score_p.mean(), score_p.std()))\n",
    "\n",
    "#print rec output\n",
    "print('-'*40 + 'Recall' + '-'*40)\n",
    "\n",
    "print(f'Scores for each fold are: {score_r}')\n",
    "print(f'Average score: {\"{:.2f}\".format(score_r.mean())}')\n",
    "print(\"%0.2f recall with a standard deviation of %0.2f\" % (score_r.mean(), score_r.std()))\n",
    "\n",
    "#print d1 output\n",
    "print('-'*40 + 'F1-Measure' + '-'*40)\n",
    "\n",
    "print(f'Scores for each fold are: {score_f}')\n",
    "print(f'Average score: {\"{:.2f}\".format(score_f.mean())}')\n",
    "print(\"%0.2f f1-measure with a standard deviation of %0.2f\" % (score_f.mean(), score_f.std()))"
   ]
  },
  {
   "cell_type": "markdown",
   "metadata": {},
   "source": [
    "# Author\n",
    "Saeed Bagheri\n",
    "\n",
    "# Github\n",
    "https://github.com/Saeedb7203/driverclassification"
   ]
  }
 ],
 "metadata": {
  "kernelspec": {
   "display_name": "Python 3",
   "language": "python",
   "name": "python3"
  },
  "language_info": {
   "codemirror_mode": {
    "name": "ipython",
    "version": 3
   },
   "file_extension": ".py",
   "mimetype": "text/x-python",
   "name": "python",
   "nbconvert_exporter": "python",
   "pygments_lexer": "ipython3",
   "version": "3.8.10"
  }
 },
 "nbformat": 4,
 "nbformat_minor": 4
}
