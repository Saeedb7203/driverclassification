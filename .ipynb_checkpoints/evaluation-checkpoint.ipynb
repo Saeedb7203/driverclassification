{
 "cells": [
  {
   "cell_type": "code",
   "execution_count": 6,
   "metadata": {
    "colab": {
     "base_uri": "https://localhost:8080/"
    },
    "id": "YWF4Zw6bdyut",
    "outputId": "e9a49ebd-bc5f-4752-fc10-5e85e38218b5"
   },
   "outputs": [
    {
     "name": "stdout",
     "output_type": "stream",
     "text": [
      "Confusion matrix: \n",
      " [[3 0 0]\n",
      " [1 0 1]\n",
      " [0 1 1]]\n"
     ]
    }
   ],
   "source": [
    "from sklearn.metrics import classification_report, accuracy_score, confusion_matrix, recall_score, precision_score, f1_score\n",
    "\n",
    "pred   = [0, 2, 1, 0, 0, 2, 0]\n",
    "y_true = [0, 1, 2, 0, 1, 2, 0]\n",
    "\n",
    "print('Confusion matrix: \\n', confusion_matrix(y_true, pred))"
   ]
  },
  {
   "cell_type": "code",
   "execution_count": 7,
   "metadata": {
    "colab": {
     "base_uri": "https://localhost:8080/"
    },
    "id": "4dSg5pffeySt",
    "outputId": "2c036a40-d49e-4840-e36e-fbe7aeedab06"
   },
   "outputs": [
    {
     "name": "stdout",
     "output_type": "stream",
     "text": [
      "Precision (micor method):  0.5714285714285714\n",
      "Precision (macor method):  0.4166666666666667\n",
      "Precision (weighted method):  0.4642857142857143\n"
     ]
    }
   ],
   "source": [
    "print('Precision (micor method): ', precision_score(y_true, pred, average='micro'))\n",
    "print('Precision (macor method): ', precision_score(y_true, pred, average='macro'))\n",
    "print('Precision (weighted method): ', precision_score(y_true, pred, average='weighted'))"
   ]
  },
  {
   "cell_type": "code",
   "execution_count": 9,
   "metadata": {
    "colab": {
     "base_uri": "https://localhost:8080/"
    },
    "id": "7G9QVSlReR_B",
    "outputId": "e8ef7dfe-5fdc-4bb8-ca20-7006549f6c55"
   },
   "outputs": [
    {
     "name": "stdout",
     "output_type": "stream",
     "text": [
      "Recall (micor method):  0.5714285714285714\n",
      "Recall (macor method):  0.5\n",
      "Recall (weighted method):  0.5714285714285714\n"
     ]
    }
   ],
   "source": [
    "print('Recall (micor method): ', recall_score(y_true, pred, average='micro'))\n",
    "print('Recall (macor method): ', recall_score(y_true, pred, average='macro'))\n",
    "print('Recall (weighted method): ', recall_score(y_true, pred, average='weighted'))"
   ]
  },
  {
   "cell_type": "code",
   "execution_count": 11,
   "metadata": {
    "colab": {
     "base_uri": "https://localhost:8080/"
    },
    "id": "UnYdDPFyeuG6",
    "outputId": "0fb13a2b-b97a-4c8d-e3ca-0b130bbd7aa3"
   },
   "outputs": [
    {
     "name": "stdout",
     "output_type": "stream",
     "text": [
      "F-measure (micor method):  0.5714285714285714\n",
      "F-measure (macor method):  0.4523809523809524\n",
      "F-measure (weighted method):  0.5102040816326531\n"
     ]
    }
   ],
   "source": [
    "print('F-measure (micor method): ', f1_score(y_true, pred, average='micro'))\n",
    "print('F-measure (macor method): ', f1_score(y_true, pred, average='macro'))\n",
    "print('F-measure (weighted method): ', f1_score(y_true, pred, average='weighted'))"
   ]
  },
  {
   "cell_type": "code",
   "execution_count": 13,
   "metadata": {
    "colab": {
     "base_uri": "https://localhost:8080/"
    },
    "id": "rnsXuoSQfXQb",
    "outputId": "8562f029-8c0f-470e-942f-4a91f52960ca"
   },
   "outputs": [
    {
     "name": "stdout",
     "output_type": "stream",
     "text": [
      "              precision    recall  f1-score   support\n",
      "\n",
      "           0       0.75      1.00      0.86         3\n",
      "           1       0.00      0.00      0.00         2\n",
      "           2       0.50      0.50      0.50         2\n",
      "\n",
      "    accuracy                           0.57         7\n",
      "   macro avg       0.42      0.50      0.45         7\n",
      "weighted avg       0.46      0.57      0.51         7\n",
      "\n"
     ]
    }
   ],
   "source": [
    "print(classification_report(y_true, pred))"
   ]
  }
 ],
 "metadata": {
  "colab": {
   "name": "evaluation.ipynb",
   "provenance": []
  },
  "kernelspec": {
   "display_name": "Python 3",
   "name": "python3"
  },
  "language_info": {
   "name": "python"
  }
 },
 "nbformat": 4,
 "nbformat_minor": 0
}
